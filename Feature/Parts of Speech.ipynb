{
 "cells": [
  {
   "cell_type": "markdown",
   "id": "560931d7",
   "metadata": {},
   "source": [
    "이상,정상 리뷰 품사별(명,동,형,부) 단어 빈도수 출력"
   ]
  },
  {
   "cell_type": "code",
   "execution_count": 1,
   "id": "d4accfe0",
   "metadata": {},
   "outputs": [],
   "source": [
    "from collections import Counter\n",
    "from konlpy.tag import Okt"
   ]
  },
  {
   "cell_type": "markdown",
   "id": "6d5fc293",
   "metadata": {},
   "source": [
    "이상 리뷰"
   ]
  },
  {
   "cell_type": "code",
   "execution_count": 2,
   "id": "b063257f",
   "metadata": {},
   "outputs": [
    {
     "name": "stdout",
     "output_type": "stream",
     "text": [
      "--------------------이상 리뷰에서 품사별 단어 빈도수-----------------------\n",
      "\n",
      "\n",
      "명사\n",
      "\n",
      "[('배달', 140), ('안', 89), ('시간', 77), ('거', 43), ('주문', 36), ('전화', 35), ('음식', 32), ('맛', 24), ('돈', 18), ('건', 18)]\n",
      "\n",
      "형용사\n",
      "\n",
      "[('이런', 10), ('전화했더니', 9), ('어떻게', 7), ('있는', 7), ('전화해서', 6), ('없네요', 6), ('없고', 6), ('그럼', 5), ('아까', 4), ('입니다', 4)]\n",
      "\n",
      "동사\n",
      "\n",
      "[('한', 56), ('하고', 16), ('시켜', 15), ('했는데', 15), ('넘게', 14), ('오고', 12), ('하는', 12), ('다신', 11), ('와서', 11), ('식어서', 9)]\n",
      "\n",
      "부사\n",
      "\n",
      "[('다', 45), ('너무', 31), ('아직도', 11), ('이렇게', 10), ('없이', 6), ('오래', 5), ('아무리', 4), ('같이', 4), ('그렇게', 4), ('많이', 4)]\n"
     ]
    }
   ],
   "source": [
    "file = open(\"C:/Users/User/OneDrive - 공주대학교/바탕 화면/review/after_negative(1).txt\", 'r', encoding='utf-8')\n",
    "\n",
    "lines = file.readlines()\n",
    "\n",
    "# 2. 변수 okja에 전체댓글을 다시저장\n",
    "okja = []\n",
    "for line in lines:\n",
    "    okja.append(line)\n",
    "file.close()\n",
    "\n",
    "# 3. 트윗터 패키지 안에 konlpy 모듈호출\n",
    "okt=Okt()\n",
    "\n",
    "# 4. 각 문장별로 형태소 구분하기\n",
    "sentences_tag = []\n",
    "for sentence in okja:\n",
    "    morph = okt.pos(sentence)\n",
    "    sentences_tag.append(morph)\n",
    "\n",
    "\n",
    "# 5. 명사 혹은 형용사인 품사만 선별해 리스트에 담기\n",
    "noun_list = []\n",
    "adj_list = [] #형용사\n",
    "verb_list = [] #동사\n",
    "ad_list = [] #부사\n",
    "for sentence1 in sentences_tag:\n",
    "    for word, tag in sentence1:\n",
    "        if tag in ['Noun']:\n",
    "            noun_list.append(word)\n",
    "        elif tag in ['Adjective']:\n",
    "            adj_list.append(word)\n",
    "        elif tag in ['Verb']:\n",
    "            verb_list.append(word)\n",
    "        elif tag in ['Adverb']:\n",
    "            ad_list.append(word)\n",
    "# 6. 선별된 품사별 빈도수 계산 & 상위 빈도 10위 까지 출력\n",
    "\n",
    "print('--------------------이상 리뷰에서 품사별 단어 빈도수-----------------------\\n\\n')\n",
    "print('명사\\n')\n",
    "counts = Counter(noun_list)\n",
    "print(counts.most_common(10))\n",
    "\n",
    "print('\\n형용사\\n')\n",
    "counts = Counter(adj_list)\n",
    "print(counts.most_common(10))\n",
    "\n",
    "print('\\n동사\\n')\n",
    "counts = Counter(verb_list)\n",
    "print(counts.most_common(10))\n",
    "\n",
    "print('\\n부사\\n')\n",
    "counts = Counter(ad_list)\n",
    "print(counts.most_common(10))"
   ]
  },
  {
   "cell_type": "markdown",
   "id": "3de104a2",
   "metadata": {},
   "source": [
    "정상리뷰"
   ]
  },
  {
   "cell_type": "code",
   "execution_count": 3,
   "id": "14fb9cef",
   "metadata": {},
   "outputs": [
    {
     "name": "stdout",
     "output_type": "stream",
     "text": [
      "--------------------정상 리뷰에서 품사별 단어 빈도수-----------------------\n",
      "\n",
      "명사\n",
      "\n",
      "[('맛', 747), ('배달', 585), ('안', 306), ('거', 280), ('주문', 226), ('진짜', 188), ('양', 185), ('양도', 177), ('좀', 175), ('정말', 166)]\n",
      "\n",
      "형용사\n",
      "\n",
      "[('맛있어요', 470), ('맛있게', 394), ('빠르고', 142), ('좋아요', 125), ('입니다', 117), ('맛있었어요', 109), ('많고', 105), ('맛있네요', 103), ('맛있고', 94), ('같아요', 85)]\n",
      "\n",
      "동사\n",
      "\n",
      "[('잘', 616), ('먹었습니다', 371), ('시켜', 260), ('먹었어요', 211), ('먹고', 145), ('시켰는데', 125), ('감사합니다', 115), ('했는데', 109), ('먹는', 101), ('먹을', 101)]\n",
      "\n",
      "부사\n",
      "\n",
      "[('너무', 458), ('다', 211), ('많이', 107), ('빨리', 85), ('엄청', 68), ('근데', 52), ('딱', 48), ('그래도', 43), ('이렇게', 37), ('같이', 36)]\n"
     ]
    }
   ],
   "source": [
    "print('--------------------정상 리뷰에서 품사별 단어 빈도수-----------------------\\n')\n",
    "\n",
    "file = open(\"C:/Users/User/OneDrive - 공주대학교/바탕 화면/review/after_positive(0).txt\", 'r', encoding='utf-8')\n",
    "\n",
    "lines = file.readlines()\n",
    "\n",
    "# 2. 변수 okja에 전체댓글을 다시저장\n",
    "okja = []\n",
    "for line in lines:\n",
    "    okja.append(line)\n",
    "file.close()\n",
    "\n",
    "# 3. 트윗터 패키지 안에 konlpy 모듈호출\n",
    "okt=Okt()\n",
    "\n",
    "# 4. 각 문장별로 형태소 구분하기\n",
    "sentences_tag = []\n",
    "for sentence in okja:\n",
    "    morph = okt.pos(sentence)\n",
    "    sentences_tag.append(morph)\n",
    "\n",
    "\n",
    "# 5. 명사 혹은 형용사인 품사만 선별해 리스트에 담기\n",
    "noun_list = []\n",
    "adj_list = [] #형용사\n",
    "verb_list = [] #동사\n",
    "ad_list = [] #부사\n",
    "for sentence1 in sentences_tag:\n",
    "    for word, tag in sentence1:\n",
    "        if tag in ['Noun']:\n",
    "            noun_list.append(word)\n",
    "        elif tag in ['Adjective']:\n",
    "            adj_list.append(word)\n",
    "        elif tag in ['Verb']:\n",
    "            verb_list.append(word)\n",
    "        elif tag in ['Adverb']:\n",
    "            ad_list.append(word)\n",
    "\n",
    "print('명사\\n')\n",
    "counts = Counter(noun_list)\n",
    "print(counts.most_common(10))\n",
    "\n",
    "print('\\n형용사\\n')\n",
    "counts = Counter(adj_list)\n",
    "print(counts.most_common(10))\n",
    "\n",
    "print('\\n동사\\n')\n",
    "counts = Counter(verb_list)\n",
    "print(counts.most_common(10))\n",
    "\n",
    "print('\\n부사\\n')\n",
    "counts = Counter(ad_list)\n",
    "print(counts.most_common(10))"
   ]
  }
 ],
 "metadata": {
  "kernelspec": {
   "display_name": "Python 3 (ipykernel)",
   "language": "python",
   "name": "python3"
  },
  "language_info": {
   "codemirror_mode": {
    "name": "ipython",
    "version": 3
   },
   "file_extension": ".py",
   "mimetype": "text/x-python",
   "name": "python",
   "nbconvert_exporter": "python",
   "pygments_lexer": "ipython3",
   "version": "3.9.6"
  }
 },
 "nbformat": 4,
 "nbformat_minor": 5
}
