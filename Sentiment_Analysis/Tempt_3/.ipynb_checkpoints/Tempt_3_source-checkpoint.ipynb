{
 "cells": [
  {
   "cell_type": "code",
   "execution_count": 10,
   "id": "86d9aa77",
   "metadata": {},
   "outputs": [],
   "source": [
    "import konlpy\n",
    "import pandas as pd\n",
    "import numpy as np"
   ]
  },
  {
   "cell_type": "markdown",
   "id": "f3d860f2",
   "metadata": {},
   "source": [
    "## 훈련 데이터 셋 설정"
   ]
  },
  {
   "cell_type": "code",
   "execution_count": 11,
   "id": "ee1689b9",
   "metadata": {},
   "outputs": [],
   "source": [
    "df_train = pd.read_csv('trainset.csv', keep_default_na=False)"
   ]
  },
  {
   "cell_type": "code",
   "execution_count": 12,
   "id": "19dd3f69",
   "metadata": {},
   "outputs": [
    {
     "data": {
      "text/html": [
       "<div>\n",
       "<style scoped>\n",
       "    .dataframe tbody tr th:only-of-type {\n",
       "        vertical-align: middle;\n",
       "    }\n",
       "\n",
       "    .dataframe tbody tr th {\n",
       "        vertical-align: top;\n",
       "    }\n",
       "\n",
       "    .dataframe thead th {\n",
       "        text-align: right;\n",
       "    }\n",
       "</style>\n",
       "<table border=\"1\" class=\"dataframe\">\n",
       "  <thead>\n",
       "    <tr style=\"text-align: right;\">\n",
       "      <th></th>\n",
       "      <th>유저이름</th>\n",
       "      <th>날짜</th>\n",
       "      <th>별점</th>\n",
       "      <th>사진</th>\n",
       "      <th>메뉴</th>\n",
       "      <th>리뷰</th>\n",
       "      <th>긍/부정</th>\n",
       "    </tr>\n",
       "  </thead>\n",
       "  <tbody>\n",
       "    <tr>\n",
       "      <th>0</th>\n",
       "      <td>sb**</td>\n",
       "      <td>2021-08-11</td>\n",
       "      <td>1</td>\n",
       "      <td>yes</td>\n",
       "      <td>반반치킨（후라이드＋양념）/1</td>\n",
       "      <td>제발 리뷰 솔직하게 씁시다~ 닭인지 병아리인지 모르것고 본점이라면서 짱깨집도 같이 ...</td>\n",
       "      <td>-1</td>\n",
       "    </tr>\n",
       "    <tr>\n",
       "      <th>1</th>\n",
       "      <td>sh**</td>\n",
       "      <td>2021-08-09</td>\n",
       "      <td>2</td>\n",
       "      <td>no</td>\n",
       "      <td>투펀치반반반（두마리）/1(양념소스변경(양념-&gt;눈물소스 변경)+간장소스변경(마늘간장-...</td>\n",
       "      <td>맛은 있는데 치킨이 진짜 넘 짜게 식어서 옴...... 먹는데 이거 항의할까말까 고...</td>\n",
       "      <td>-1</td>\n",
       "    </tr>\n",
       "    <tr>\n",
       "      <th>2</th>\n",
       "      <td>ne**</td>\n",
       "      <td>2021-08-08</td>\n",
       "      <td>1</td>\n",
       "      <td>yes</td>\n",
       "      <td>불고기버거/2+한우불고기세트/1(디저트 변경(세트 포테이토)+드링크 변경(세트 콜라...</td>\n",
       "      <td>불고기 버거 단품2개와 한우버거 세트를 주문했는데 콜라와 포테이토가 빠진 단품 3개...</td>\n",
       "      <td>-1</td>\n",
       "    </tr>\n",
       "    <tr>\n",
       "      <th>3</th>\n",
       "      <td>lj**</td>\n",
       "      <td>2021-08-06</td>\n",
       "      <td>1</td>\n",
       "      <td>no</td>\n",
       "      <td>사각새우더블세트/2(디저트 변경(세트 포테이토)+드링크 변경(선택 레모네이드))</td>\n",
       "      <td>말도없이 배달 엄청 늦어짐</td>\n",
       "      <td>-1</td>\n",
       "    </tr>\n",
       "    <tr>\n",
       "      <th>4</th>\n",
       "      <td>hs**</td>\n",
       "      <td>2021-08-05</td>\n",
       "      <td>2</td>\n",
       "      <td>no</td>\n",
       "      <td>제육덮밥/1+순두부찌개/1</td>\n",
       "      <td>순두부찌개는 너무 짠맛만 나고.. 물 넣어서 전자레인지 돌려먹었어요 그냥 딱 쉰김치...</td>\n",
       "      <td>-1</td>\n",
       "    </tr>\n",
       "  </tbody>\n",
       "</table>\n",
       "</div>"
      ],
      "text/plain": [
       "   유저이름          날짜  별점   사진  \\\n",
       "0  sb**  2021-08-11   1  yes   \n",
       "1  sh**  2021-08-09   2   no   \n",
       "2  ne**  2021-08-08   1  yes   \n",
       "3  lj**  2021-08-06   1   no   \n",
       "4  hs**  2021-08-05   2   no   \n",
       "\n",
       "                                                  메뉴  \\\n",
       "0                                    반반치킨（후라이드＋양념）/1   \n",
       "1  투펀치반반반（두마리）/1(양념소스변경(양념->눈물소스 변경)+간장소스변경(마늘간장-...   \n",
       "2  불고기버거/2+한우불고기세트/1(디저트 변경(세트 포테이토)+드링크 변경(세트 콜라...   \n",
       "3       사각새우더블세트/2(디저트 변경(세트 포테이토)+드링크 변경(선택 레모네이드))   \n",
       "4                                     제육덮밥/1+순두부찌개/1   \n",
       "\n",
       "                                                  리뷰  긍/부정  \n",
       "0  제발 리뷰 솔직하게 씁시다~ 닭인지 병아리인지 모르것고 본점이라면서 짱깨집도 같이 ...    -1  \n",
       "1  맛은 있는데 치킨이 진짜 넘 짜게 식어서 옴...... 먹는데 이거 항의할까말까 고...    -1  \n",
       "2  불고기 버거 단품2개와 한우버거 세트를 주문했는데 콜라와 포테이토가 빠진 단품 3개...    -1  \n",
       "3                                     말도없이 배달 엄청 늦어짐    -1  \n",
       "4  순두부찌개는 너무 짠맛만 나고.. 물 넣어서 전자레인지 돌려먹었어요 그냥 딱 쉰김치...    -1  "
      ]
     },
     "execution_count": 12,
     "metadata": {},
     "output_type": "execute_result"
    }
   ],
   "source": [
    "df_train.head()\n",
    "#print(df_train.head())"
   ]
  },
  {
   "cell_type": "code",
   "execution_count": 13,
   "id": "ea3e8e4e",
   "metadata": {},
   "outputs": [],
   "source": [
    "X_train = df_train[\"리뷰\"].values\n",
    "Y_train = df_train[\"긍/부정\"].values"
   ]
  },
  {
   "cell_type": "markdown",
   "id": "f23ee018",
   "metadata": {},
   "source": [
    "## 분석 데이터 셋 설정"
   ]
  },
  {
   "cell_type": "code",
   "execution_count": 14,
   "id": "6b03ab04",
   "metadata": {},
   "outputs": [],
   "source": [
    "df_test = pd.read_csv('TestSet.csv', keep_default_na=False, encoding='cp949')\n",
    "df_train.head()\n",
    "X_test = df_test['리뷰'].values\n",
    "Y_test = df_test['긍/부정'].values"
   ]
  },
  {
   "cell_type": "code",
   "execution_count": 16,
   "id": "f5ac8663",
   "metadata": {},
   "outputs": [
    {
     "name": "stdout",
     "output_type": "stream",
     "text": [
      "10658\n"
     ]
    }
   ],
   "source": [
    "print(len(X_train))"
   ]
  },
  {
   "cell_type": "code",
   "execution_count": 17,
   "id": "43489e31",
   "metadata": {},
   "outputs": [
    {
     "name": "stdout",
     "output_type": "stream",
     "text": [
      "25032\n"
     ]
    }
   ],
   "source": [
    "print(len(X_test))"
   ]
  },
  {
   "cell_type": "markdown",
   "id": "8e2d631e",
   "metadata": {},
   "source": [
    "## 감성 분류"
   ]
  },
  {
   "cell_type": "code",
   "execution_count": 21,
   "id": "33b45a7e",
   "metadata": {},
   "outputs": [],
   "source": [
    "from konlpy.tag import Okt\n",
    "okt = Okt()"
   ]
  },
  {
   "cell_type": "code",
   "execution_count": 23,
   "id": "273f464f",
   "metadata": {},
   "outputs": [],
   "source": [
    "from sklearn.feature_extraction.text import TfidfVectorizer\n",
    "tfidf = TfidfVectorizer(ngram_range=(1, 2), \n",
    "                        min_df=3, \n",
    "                        max_df = 0.9, \n",
    "                        tokenizer=okt.morphs, \n",
    "                        token_pattern=None)\n",
    "\n",
    "tfidf.fit(X_train)\n",
    "X_train_okt = tfidf.transform(X_train)\n",
    "X_test_okt = tfidf.transform(X_test)"
   ]
  },
  {
   "cell_type": "code",
   "execution_count": null,
   "id": "a1fc0360",
   "metadata": {},
   "outputs": [],
   "source": []
  }
 ],
 "metadata": {
  "kernelspec": {
   "display_name": "Python 3",
   "language": "python",
   "name": "python3"
  },
  "language_info": {
   "codemirror_mode": {
    "name": "ipython",
    "version": 3
   },
   "file_extension": ".py",
   "mimetype": "text/x-python",
   "name": "python",
   "nbconvert_exporter": "python",
   "pygments_lexer": "ipython3",
   "version": "3.6.13"
  }
 },
 "nbformat": 4,
 "nbformat_minor": 5
}
