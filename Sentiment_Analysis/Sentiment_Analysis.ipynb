{
 "cells": [
  {
   "cell_type": "markdown",
   "id": "6e331877",
   "metadata": {},
   "source": [
    "Sentiment Analysis"
   ]
  },
  {
   "cell_type": "markdown",
   "id": "8987c60c",
   "metadata": {},
   "source": [
    "라이브러리"
   ]
  },
  {
   "cell_type": "code",
   "execution_count": 1,
   "id": "2317d2d0",
   "metadata": {},
   "outputs": [],
   "source": [
    "from os import name, sep\n",
    "from nltk import tokenize\n",
    "from nltk.corpus.reader import twitter\n",
    "import pandas as pd\n",
    "import numpy as np\n",
    "\n",
    "\n",
    "from konlpy.tag import Okt\n",
    "from konlpy.tag import Twitter\n",
    "from nltk.corpus import stopwords\n",
    "from sklearn.model_selection import train_test_split, GridSearchCV\n",
    "from sklearn.utils import shuffle\n",
    "from sklearn.feature_extraction.text import CountVectorizer, TfidfVectorizer\n",
    "from sklearn.linear_model import LogisticRegression\n",
    "from sklearn.metrics import accuracy_score\n",
    "from hanspell import spell_checker\n",
    "\n",
    "from sklearn.model_selection import RandomizedSearchCV\n",
    "from sklearn.linear_model import SGDClassifier\n",
    "from sklearn.utils.fixes import loguniform"
   ]
  },
  {
   "cell_type": "markdown",
   "id": "38ebd958",
   "metadata": {},
   "source": [
    "파일 불러오기, 훈련 데이터와 테스트 데이터 나누기(7:3)"
   ]
  },
  {
   "cell_type": "code",
   "execution_count": 2,
   "id": "f82287d5",
   "metadata": {},
   "outputs": [
    {
     "name": "stdout",
     "output_type": "stream",
     "text": [
      "7461 7461\n",
      "3198 3198\n"
     ]
    }
   ],
   "source": [
    "df = pd.read_csv(\"C:/Users/User/OneDrive - 공주대학교/바탕 화면/review/맞춤법 정리(리뷰, 레이블).csv\", encoding='cp949')\n",
    "\n",
    "train_x, test_x, train_y, test_y = train_test_split(df[\"리뷰\"],df[\"긍/부정\"], test_size=0.3, random_state=10)\n",
    "\n",
    "print(len(train_x), len(train_y))\n",
    "\n",
    "print(len(test_x), len(test_y))"
   ]
  },
  {
   "cell_type": "markdown",
   "id": "dfea5aa1",
   "metadata": {},
   "source": [
    "형태소 분리 및 TF-IDF"
   ]
  },
  {
   "cell_type": "code",
   "execution_count": 3,
   "id": "82828d89",
   "metadata": {},
   "outputs": [
    {
     "name": "stdout",
     "output_type": "stream",
     "text": [
      "순두부찌개는 너무 짠맛만 나고.. 물 넣어서 전자레인지 돌려먹었어요 그냥 딱 쉰 김치 국물에 순두부에요 제육덮밥도.. 제가 리뷰만 너무 믿었나요 윤기 1도 없고 그냥 퍽퍽 그 자체에요 반찬도 참다 참다 쉰내가 너무 나서 말씀드렸더니 쉰 김치냄새 때문에 그렇다 먹어도 이상 없다 하시는데 제가 거기서 더 이상 뭔 얘길 하나요~ 진심 두 입씩 먹고 다 안 먹었습니다 .. 양은 많네요\n",
      "['순두부찌개', '는', '너무', '짠맛', '만', '나고', '..', '물', '넣어서', '전자레인지', '돌려', '먹었어요', '그냥', '딱', '쉰', '김치', '국물', '에', '순두부', '에요', '제육', '덮', '밥', '도', '..', '제', '가', '리뷰', '만', '너무', '믿었나요', '윤기', '1', '도', '없고', '그냥', '퍽퍽', '그', '자체', '에요', '반찬', '도', '참다', '참다', '쉰내', '가', '너무', '나서', '말씀드렸더니', '쉰', '김치', '냄새', '때문', '에', '그렇다', '먹어도', '이상', '없다', '하시는데', '제', '가', '거기', '서', '더', '이상', '뭔', '얘길', '하나요', '~', '진심', '두', '입', '씩', '먹고', '다', '안', '먹었습니다', '..', '양은', '많네요']\n"
     ]
    }
   ],
   "source": [
    "okt = Okt()\n",
    "print(train_x[4])\n",
    "print(okt.morphs(train_x[4]))\n",
    "\n",
    "tfidf = TfidfVectorizer(ngram_range=(1, 2), min_df=3, max_df=0.9, tokenizer=okt.morphs, token_pattern=None)\n",
    "tfidf.fit(train_x)\n",
    "train_x_okt = tfidf.transform(train_x)\n",
    "test_x_okt = tfidf.transform(test_x.values.astype('U'))"
   ]
  },
  {
   "cell_type": "markdown",
   "id": "6ba5f3f8",
   "metadata": {},
   "source": [
    "로지스틱 회귀"
   ]
  },
  {
   "cell_type": "code",
   "execution_count": 4,
   "id": "bd8a80f2",
   "metadata": {},
   "outputs": [
    {
     "name": "stdout",
     "output_type": "stream",
     "text": [
      "Fitting 5 folds for each of 50 candidates, totalling 250 fits\n"
     ]
    },
    {
     "data": {
      "text/plain": [
       "RandomizedSearchCV(estimator=SGDClassifier(loss='log', random_state=1),\n",
       "                   n_iter=50,\n",
       "                   param_distributions={'alpha': <scipy.stats._distn_infrastructure.rv_frozen object at 0x0000016A36CACE50>},\n",
       "                   random_state=1, verbose=1)"
      ]
     },
     "execution_count": 4,
     "metadata": {},
     "output_type": "execute_result"
    }
   ],
   "source": [
    "sgd = SGDClassifier(loss='log', random_state=1)\n",
    "param_dist = {'alpha': loguniform(0.0001, 100.0)}\n",
    "\n",
    "rsv_okt = RandomizedSearchCV(estimator=sgd, param_distributions=param_dist, n_iter=50, random_state=1, verbose=1)\n",
    "rsv_okt.fit(train_x_okt, train_y)"
   ]
  },
  {
   "cell_type": "markdown",
   "id": "e02d6b0d",
   "metadata": {},
   "source": [
    "점수 출력"
   ]
  },
  {
   "cell_type": "code",
   "execution_count": 5,
   "id": "165b62de",
   "metadata": {},
   "outputs": [
    {
     "name": "stdout",
     "output_type": "stream",
     "text": [
      "최상 점수\n",
      "0.90068370896175\n",
      "최상 매개변수 값\n",
      "{'alpha': 0.0001001581395585897}\n",
      "test 점수\n",
      "0.9024390243902439\n"
     ]
    }
   ],
   "source": [
    "print('최상 점수')\n",
    "print(rsv_okt.best_score_)\n",
    "\n",
    "print('최상 매개변수 값')\n",
    "print(rsv_okt.best_params_)\n",
    "\n",
    "print('test 점수')\n",
    "print(rsv_okt.score(test_x_okt,test_y))"
   ]
  },
  {
   "cell_type": "markdown",
   "id": "5a64baf9",
   "metadata": {},
   "source": [
    "파일 저장"
   ]
  },
  {
   "cell_type": "code",
   "execution_count": null,
   "id": "8e6bfd02",
   "metadata": {},
   "outputs": [],
   "source": []
  }
 ],
 "metadata": {
  "kernelspec": {
   "display_name": "Python 3 (ipykernel)",
   "language": "python",
   "name": "python3"
  },
  "language_info": {
   "codemirror_mode": {
    "name": "ipython",
    "version": 3
   },
   "file_extension": ".py",
   "mimetype": "text/x-python",
   "name": "python",
   "nbconvert_exporter": "python",
   "pygments_lexer": "ipython3",
   "version": "3.9.6"
  }
 },
 "nbformat": 4,
 "nbformat_minor": 5
}
