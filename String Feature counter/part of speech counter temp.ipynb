{
 "cells": [
  {
   "cell_type": "code",
   "execution_count": 1,
   "id": "0f49f1d6",
   "metadata": {},
   "outputs": [],
   "source": [
    "from konlpy.tag import Komoran\n",
    "import pandas as pd\n",
    "from pandas import DataFrame\n",
    "from tqdm import tqdm"
   ]
  },
  {
   "cell_type": "code",
   "execution_count": 2,
   "id": "e8f5aafa",
   "metadata": {},
   "outputs": [],
   "source": [
    "rawData = pd.read_csv(\"./result.csv\", encoding = \"cp949\")\n",
    "\n",
    "result_data = []"
   ]
  },
  {
   "cell_type": "code",
   "execution_count": null,
   "id": "e76a9d4d",
   "metadata": {},
   "outputs": [
    {
     "name": "stderr",
     "output_type": "stream",
     "text": [
      "  3%|██▎                                                                         | 315/10200 [09:20<4:44:49,  1.73s/it]"
     ]
    }
   ],
   "source": [
    "for index in tqdm(rawData[\"Review\"]):\n",
    "    komoran = Komoran()\n",
    "    nlpData = komoran.pos(index)\n",
    "    rawData = pd.DataFrame(nlpData)\n",
    "    rawData.columns = [\"words\", \"PSC\"]\n",
    "    counterList = rawData['PSC']\n",
    "    a, b = (0, 0)\n",
    "    targetA = ['NNG', 'NNP', 'NNB', 'VA','JKS', 'JKC', 'JKG','JKO','JKB','JKV','JKQ','JX','JC','MM']\n",
    "    targetB = ['VV', 'MAG', 'MAJ', 'NP', 'NR']\n",
    "    for index in counterList:\n",
    "        if index in targetA:\n",
    "            a+=1\n",
    "        elif index in targetB:\n",
    "            b+=1\n",
    "    total = len(rawData)\n",
    "    targetApercent = (a/total)*100\n",
    "    targetBpercent = (b/total)*100\n",
    "    \n",
    "    if(targetApercent < targetBpercent):\n",
    "       result_data.append(1) \n",
    "    elif(targetBpercent < targetApercent):\n",
    "        result_data.append(-1)\n",
    "    else:\n",
    "        result_data.append(0)"
   ]
  },
  {
   "cell_type": "code",
   "execution_count": null,
   "id": "cee07de7",
   "metadata": {},
   "outputs": [],
   "source": [
    "print(result_data)"
   ]
  }
 ],
 "metadata": {
  "kernelspec": {
   "display_name": "Python 3",
   "language": "python",
   "name": "python3"
  },
  "language_info": {
   "codemirror_mode": {
    "name": "ipython",
    "version": 3
   },
   "file_extension": ".py",
   "mimetype": "text/x-python",
   "name": "python",
   "nbconvert_exporter": "python",
   "pygments_lexer": "ipython3",
   "version": "3.6.13"
  }
 },
 "nbformat": 4,
 "nbformat_minor": 5
}
