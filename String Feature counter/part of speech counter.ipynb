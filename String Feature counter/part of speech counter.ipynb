{
 "cells": [
  {
   "cell_type": "code",
   "execution_count": 1,
   "id": "0f49f1d6",
   "metadata": {},
   "outputs": [],
   "source": [
    "from konlpy.tag import Komoran\n",
    "\n",
    "import pandas as pd\n",
    "from pandas import DataFrame"
   ]
  },
  {
   "cell_type": "code",
   "execution_count": 2,
   "id": "e2eac5b4",
   "metadata": {},
   "outputs": [
    {
     "name": "stdout",
     "output_type": "stream",
     "text": [
      "리뷰를 입력하시오 : 내가 엔간해서는 리뷰 안 남기는데 진짜 겁나 맛없어요 세상에 이런 튀김옷은 처음 봄 별 한 개도 아까움\n"
     ]
    }
   ],
   "source": [
    "reviewText = input(\"리뷰를 입력하시오 : \")"
   ]
  },
  {
   "cell_type": "code",
   "execution_count": 3,
   "id": "d28d7010",
   "metadata": {},
   "outputs": [],
   "source": [
    "Komoran = Komoran()\n",
    "\n",
    "nlpData = Komoran.pos(reviewText)"
   ]
  },
  {
   "cell_type": "code",
   "execution_count": 4,
   "id": "71f63438",
   "metadata": {
    "scrolled": true
   },
   "outputs": [
    {
     "name": "stdout",
     "output_type": "stream",
     "text": [
      "0      NP\n",
      "1     JKS\n",
      "2     NNB\n",
      "3     NNB\n",
      "4     NNP\n",
      "5      JX\n",
      "6     NNP\n",
      "7     MAG\n",
      "8      VV\n",
      "9      EC\n",
      "10    MAG\n",
      "11     VV\n",
      "12     EC\n",
      "13     VA\n",
      "14     EC\n",
      "15    NNG\n",
      "16    JKB\n",
      "17     MM\n",
      "18    NNP\n",
      "19    NNG\n",
      "20     JX\n",
      "21    NNG\n",
      "22    NNG\n",
      "23     MM\n",
      "24     MM\n",
      "25    NNB\n",
      "26     JX\n",
      "27     VA\n",
      "28    ETN\n",
      "Name: PSC, dtype: object\n"
     ]
    }
   ],
   "source": [
    "rawData = pd.DataFrame(nlpData)\n",
    "\n",
    "rawData.columns = [\"words\", \"PSC\"]\n",
    "\n",
    "counterList = rawData['PSC']\n",
    "\n",
    "print(counterList)"
   ]
  },
  {
   "cell_type": "code",
   "execution_count": 8,
   "id": "471fe405",
   "metadata": {},
   "outputs": [
    {
     "name": "stdout",
     "output_type": "stream",
     "text": [
      "2 0\n"
     ]
    }
   ],
   "source": [
    "a, b = (0, 0)\n",
    "\n",
    "targetA = ['MAG']\n",
    "targetB = []\n",
    "\n",
    "for index in counterList:\n",
    "    if index in targetA:\n",
    "        a+=1\n",
    "    elif index in targetB:\n",
    "        b+=1\n",
    "\n",
    "print(a, b)"
   ]
  },
  {
   "cell_type": "code",
   "execution_count": null,
   "id": "ab1a2a46",
   "metadata": {},
   "outputs": [],
   "source": []
  }
 ],
 "metadata": {
  "kernelspec": {
   "display_name": "Python 3",
   "language": "python",
   "name": "python3"
  },
  "language_info": {
   "codemirror_mode": {
    "name": "ipython",
    "version": 3
   },
   "file_extension": ".py",
   "mimetype": "text/x-python",
   "name": "python",
   "nbconvert_exporter": "python",
   "pygments_lexer": "ipython3",
   "version": "3.6.13"
  }
 },
 "nbformat": 4,
 "nbformat_minor": 5
}
