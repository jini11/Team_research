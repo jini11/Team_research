{
 "cells": [
  {
   "cell_type": "code",
   "execution_count": 1,
   "id": "0f49f1d6",
   "metadata": {},
   "outputs": [],
   "source": [
    "from konlpy.tag import Komoran\n",
    "import pandas as pd\n",
    "from pandas import DataFrame"
   ]
  },
  {
   "cell_type": "code",
   "execution_count": 2,
   "id": "e2eac5b4",
   "metadata": {},
   "outputs": [
    {
     "name": "stdout",
     "output_type": "stream",
     "text": [
      "리뷰를 입력하시오 : 카이막 먹고싶음 ㅋㅋㅋㅋㅋ 그러면 카이막 같이 먹어줘 그놈에 필름 ㅋㅋ\n"
     ]
    }
   ],
   "source": [
    "reviewText = input(\"리뷰를 입력하시오 : \")"
   ]
  },
  {
   "cell_type": "code",
   "execution_count": 3,
   "id": "d28d7010",
   "metadata": {},
   "outputs": [],
   "source": [
    "Komoran = Komoran()\n",
    "\n",
    "nlpData = Komoran.pos(reviewText)"
   ]
  },
  {
   "cell_type": "code",
   "execution_count": 4,
   "id": "71f63438",
   "metadata": {
    "scrolled": false
   },
   "outputs": [
    {
     "name": "stdout",
     "output_type": "stream",
     "text": [
      "0     NNP\n",
      "1     NNG\n",
      "2      VV\n",
      "3      EC\n",
      "4      VX\n",
      "5     ETN\n",
      "6      NA\n",
      "7     MAJ\n",
      "8     NNP\n",
      "9     NNG\n",
      "10    MAG\n",
      "11     VV\n",
      "12     EC\n",
      "13     VX\n",
      "14     EC\n",
      "15    NNP\n",
      "16    JKB\n",
      "17    NNP\n",
      "18     NA\n",
      "Name: PSC, dtype: object\n"
     ]
    }
   ],
   "source": [
    "rawData = pd.DataFrame(nlpData)\n",
    "\n",
    "rawData.columns = [\"words\", \"PSC\"]\n",
    "\n",
    "counterList = rawData['PSC']\n",
    "\n",
    "# print(counterList)"
   ]
  },
  {
   "cell_type": "code",
   "execution_count": 5,
   "id": "471fe405",
   "metadata": {},
   "outputs": [
    {
     "name": "stdout",
     "output_type": "stream",
     "text": [
      "7 4\n"
     ]
    }
   ],
   "source": [
    "a, b = (0, 0)\n",
    "\n",
    "targetA = ['NNG', 'NNP', 'NNB', 'VA','JKS', 'JKC', 'JKG','JKO','JKB','JKV','JKQ','JX','JC','MM']\n",
    "targetB = ['VV', 'MAG', 'MAJ', 'NP', 'NR']\n",
    "\n",
    "for index in counterList:\n",
    "    if index in targetA:\n",
    "        a+=1\n",
    "    elif index in targetB:\n",
    "        b+=1"
   ]
  },
  {
   "cell_type": "code",
   "execution_count": 12,
   "id": "ab1a2a46",
   "metadata": {},
   "outputs": [
    {
     "name": "stdout",
     "output_type": "stream",
     "text": [
      "36.84210526315789\n",
      "21.052631578947366\n"
     ]
    }
   ],
   "source": [
    "total = len(rawData)\n",
    "\n",
    "targetApercent = (a/total)*100\n",
    "targetBpercent = (b/total)*100\n",
    "\n",
    "# print(targetApercent)\n",
    "# print(targetBpercent)"
   ]
  }
 ],
 "metadata": {
  "kernelspec": {
   "display_name": "Python 3",
   "language": "python",
   "name": "python3"
  },
  "language_info": {
   "codemirror_mode": {
    "name": "ipython",
    "version": 3
   },
   "file_extension": ".py",
   "mimetype": "text/x-python",
   "name": "python",
   "nbconvert_exporter": "python",
   "pygments_lexer": "ipython3",
   "version": "3.6.13"
  }
 },
 "nbformat": 4,
 "nbformat_minor": 5
}
