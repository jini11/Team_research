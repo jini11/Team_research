{
 "cells": [
  {
   "cell_type": "code",
   "execution_count": 1,
   "id": "5f544c6c",
   "metadata": {},
   "outputs": [
    {
     "name": "stdout",
     "output_type": "stream",
     "text": [
      "['네, 안녕하세요.', '반갑습니다.']\n"
     ]
    }
   ],
   "source": [
    "from konlpy.tag import Kkma\n",
    "from konlpy.utils import pprint\n",
    "\n",
    "\n",
    "kkma = Kkma()\n",
    "pprint(kkma.sentences(u'네, 안녕하세요. 반갑습니다.'))"
   ]
  },
  {
   "cell_type": "code",
   "execution_count": 4,
   "id": "a62fefbe",
   "metadata": {},
   "outputs": [
    {
     "data": {
      "text/plain": [
       "'3.8.8 (default, Apr 13 2021, 15:08:03) [MSC v.1916 64 bit (AMD64)]'"
      ]
     },
     "execution_count": 4,
     "metadata": {},
     "output_type": "execute_result"
    }
   ],
   "source": [
    "import sys\n",
    "sys.version"
   ]
  },
  {
   "cell_type": "code",
   "execution_count": 2,
   "id": "5bc7d4bb",
   "metadata": {},
   "outputs": [
    {
     "name": "stdout",
     "output_type": "stream",
     "text": [
      "# packages in environment at D:\\ProgramFile\\Anaconda3\\envs\\konlpy_test:\n",
      "Note: you may need to restart the kernel to use updated packages.\n",
      "\n",
      "#\n",
      "# Name                    Version                   Build  Channel\n",
      "argcomplete               1.12.3                   pypi_0    pypi\n",
      "argon2-cffi               20.1.0                   pypi_0    pypi\n",
      "async-generator           1.10                     pypi_0    pypi\n",
      "attrs                     21.2.0                   pypi_0    pypi\n",
      "backcall                  0.2.0                    pypi_0    pypi\n",
      "beautifulsoup4            4.6.0                    pypi_0    pypi\n",
      "bleach                    4.0.0                    pypi_0    pypi\n",
      "ca-certificates           2021.7.5             haa95532_1  \n",
      "certifi                   2021.5.30        py37haa95532_0  \n",
      "cffi                      1.14.6                   pypi_0    pypi\n",
      "charset-normalizer        2.0.4                    pypi_0    pypi\n",
      "colorama                  0.4.4                    pypi_0    pypi\n",
      "debugpy                   1.4.1                    pypi_0    pypi\n",
      "decorator                 5.0.9                    pypi_0    pypi\n",
      "defusedxml                0.7.1                    pypi_0    pypi\n",
      "entrypoints               0.3                      pypi_0    pypi\n",
      "idna                      3.2                      pypi_0    pypi\n",
      "importlib-metadata        4.6.3                    pypi_0    pypi\n",
      "ipykernel                 6.1.0                    pypi_0    pypi\n",
      "ipython                   7.26.0                   pypi_0    pypi\n",
      "ipython-genutils          0.2.0                    pypi_0    pypi\n",
      "ipywidgets                7.6.3                    pypi_0    pypi\n",
      "jedi                      0.18.0                   pypi_0    pypi\n",
      "jinja2                    3.0.1                    pypi_0    pypi\n",
      "jpype1                    1.1.2                    pypi_0    pypi\n",
      "jsonschema                3.2.0                    pypi_0    pypi\n",
      "jupyter                   1.0.0                    pypi_0    pypi\n",
      "jupyter-client            6.1.12                   pypi_0    pypi\n",
      "jupyter-console           6.4.0                    pypi_0    pypi\n",
      "jupyter-core              4.7.1                    pypi_0    pypi\n",
      "jupyterlab-pygments       0.1.2                    pypi_0    pypi\n",
      "jupyterlab-widgets        1.0.0                    pypi_0    pypi\n",
      "konlpy                    0.5.2                    pypi_0    pypi\n",
      "lxml                      4.6.3                    pypi_0    pypi\n",
      "markupsafe                2.0.1                    pypi_0    pypi\n",
      "matplotlib-inline         0.1.2                    pypi_0    pypi\n",
      "mistune                   0.8.4                    pypi_0    pypi\n",
      "nbclient                  0.5.3                    pypi_0    pypi\n",
      "nbconvert                 6.1.0                    pypi_0    pypi\n",
      "nbformat                  5.1.3                    pypi_0    pypi\n",
      "nest-asyncio              1.5.1                    pypi_0    pypi\n",
      "notebook                  6.4.3                    pypi_0    pypi\n",
      "numpy                     1.21.1                   pypi_0    pypi\n",
      "oauthlib                  3.1.1                    pypi_0    pypi\n",
      "openssl                   1.1.1k               h2bbff1b_0  \n",
      "packaging                 21.0                     pypi_0    pypi\n",
      "pandocfilters             1.4.3                    pypi_0    pypi\n",
      "parso                     0.8.2                    pypi_0    pypi\n",
      "pickleshare               0.7.5                    pypi_0    pypi\n",
      "pip                       21.2.2           py37haa95532_0  \n",
      "prometheus-client         0.11.0                   pypi_0    pypi\n",
      "prompt-toolkit            3.0.19                   pypi_0    pypi\n",
      "pycparser                 2.20                     pypi_0    pypi\n",
      "pygments                  2.9.0                    pypi_0    pypi\n",
      "pyparsing                 2.4.7                    pypi_0    pypi\n",
      "pyrsistent                0.18.0                   pypi_0    pypi\n",
      "pysocks                   1.7.1                    pypi_0    pypi\n",
      "python                    3.7.11               h6244533_0  \n",
      "python-dateutil           2.8.2                    pypi_0    pypi\n",
      "pywin32                   301                      pypi_0    pypi\n",
      "pywinpty                  1.1.3                    pypi_0    pypi\n",
      "pyzmq                     22.2.1                   pypi_0    pypi\n",
      "qtconsole                 5.1.1                    pypi_0    pypi\n",
      "qtpy                      1.9.0                    pypi_0    pypi\n",
      "requests                  2.26.0                   pypi_0    pypi\n",
      "requests-oauthlib         1.3.0                    pypi_0    pypi\n",
      "send2trash                1.8.0                    pypi_0    pypi\n",
      "setuptools                52.0.0           py37haa95532_0  \n",
      "six                       1.16.0                   pypi_0    pypi\n",
      "sqlite                    3.36.0               h2bbff1b_0  \n",
      "terminado                 0.11.0                   pypi_0    pypi\n",
      "testpath                  0.5.0                    pypi_0    pypi\n",
      "tornado                   6.1                      pypi_0    pypi\n",
      "traitlets                 5.0.5                    pypi_0    pypi\n",
      "tweepy                    3.10.0                   pypi_0    pypi\n",
      "typing-extensions         3.10.0.0                 pypi_0    pypi\n",
      "urllib3                   1.26.6                   pypi_0    pypi\n",
      "vc                        14.2                 h21ff451_1  \n",
      "vs2015_runtime            14.27.29016          h5e58377_2  \n",
      "wcwidth                   0.2.5                    pypi_0    pypi\n",
      "webencodings              0.5.1                    pypi_0    pypi\n",
      "wheel                     0.36.2             pyhd3eb1b0_0  \n",
      "widgetsnbextension        3.5.1                    pypi_0    pypi\n",
      "wincertstore              0.2                      py37_0  \n",
      "zipp                      3.5.0                    pypi_0    pypi\n"
     ]
    }
   ],
   "source": [
    "conda list"
   ]
  },
  {
   "cell_type": "code",
   "execution_count": null,
   "id": "7ae04d14",
   "metadata": {},
   "outputs": [],
   "source": []
  }
 ],
 "metadata": {
  "kernelspec": {
   "display_name": "Python 3 (ipykernel)",
   "language": "python",
   "name": "python3"
  },
  "language_info": {
   "codemirror_mode": {
    "name": "ipython",
    "version": 3
   },
   "file_extension": ".py",
   "mimetype": "text/x-python",
   "name": "python",
   "nbconvert_exporter": "python",
   "pygments_lexer": "ipython3",
   "version": "3.7.11"
  }
 },
 "nbformat": 4,
 "nbformat_minor": 5
}
