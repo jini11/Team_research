{
 "cells": [
  {
   "cell_type": "markdown",
   "id": "42b2ac1b",
   "metadata": {},
   "source": [
    "## DB SCAN & Clustering\n",
    "https://teddylee777.github.io/scikit-learn/sklearn-kmeans-%ED%99%9C%EC%9A%A9%ED%95%9C-%EB%89%B4%EC%8A%A4%EA%B8%B0%EC%82%AC-%ED%81%B4%EB%9F%AC%EC%8A%A4%ED%84%B0%EB%A7%81 참조"
   ]
  },
  {
   "cell_type": "code",
   "execution_count": 2,
   "id": "a3dd65bb",
   "metadata": {},
   "outputs": [],
   "source": [
    "import pandas as pd\n",
    "import numpy as np\n",
    "\n",
    "from konlpy.tag import Okt\n",
    "from tqdm import tqdm\n",
    "\n",
    "from sklearn.feature_extraction.text import CountVectorizer\n",
    "from sklearn.preprocessing import normalize\n",
    "from sklearn.cluster import KMeans\n",
    "\n",
    "import matplotlib.pyplot as plt\n",
    "from scipy.spatial.distance import cdist"
   ]
  },
  {
   "cell_type": "markdown",
   "id": "f70b67c3",
   "metadata": {},
   "source": [
    "### Data load"
   ]
  },
  {
   "cell_type": "code",
   "execution_count": 3,
   "id": "25c32991",
   "metadata": {},
   "outputs": [
    {
     "data": {
      "text/plain": [
       "(11208, 9)"
      ]
     },
     "execution_count": 3,
     "metadata": {},
     "output_type": "execute_result"
    }
   ],
   "source": [
    "review_data = pd.read_csv(\"./dataset_eeeend.csv\")\n",
    "\n",
    "review_data.shape\n",
    "# cluster_set = review_data['리뷰']"
   ]
  },
  {
   "cell_type": "code",
   "execution_count": 4,
   "id": "bd346121",
   "metadata": {},
   "outputs": [],
   "source": [
    "# review_data.tail()"
   ]
  },
  {
   "cell_type": "markdown",
   "id": "1436f16f",
   "metadata": {},
   "source": [
    "### Review String Vectorize"
   ]
  },
  {
   "cell_type": "code",
   "execution_count": 5,
   "id": "4c5ed49d",
   "metadata": {},
   "outputs": [],
   "source": [
    "# okt = Okt()\n",
    "\n",
    "# for i in tqdm(review_data['리뷰']):\n",
    "#    print(okt.morphs(i))\n",
    "\n"
   ]
  },
  {
   "cell_type": "markdown",
   "id": "ebdf471c",
   "metadata": {},
   "source": [
    "### CLUSTERING"
   ]
  },
  {
   "cell_type": "code",
   "execution_count": 10,
   "id": "ca84c624",
   "metadata": {},
   "outputs": [
    {
     "name": "stdout",
     "output_type": "stream",
     "text": [
      "  (0, 3009)\t0.31622776601683794\n",
      "  (0, 9655)\t0.31622776601683794\n",
      "  (0, 13554)\t0.31622776601683794\n",
      "  (0, 15773)\t0.31622776601683794\n",
      "  (0, 17457)\t0.31622776601683794\n",
      "  (0, 18319)\t0.31622776601683794\n",
      "  (0, 18322)\t0.31622776601683794\n",
      "  (0, 23410)\t0.31622776601683794\n",
      "  (0, 27032)\t0.31622776601683794\n",
      "  (0, 27296)\t0.31622776601683794\n",
      "  (1, 11569)\t0.7071067811865475\n",
      "  (1, 30695)\t0.7071067811865475\n",
      "  (2, 337)\t0.3333333333333333\n",
      "  (2, 4511)\t0.3333333333333333\n",
      "  (2, 4515)\t0.3333333333333333\n",
      "  (2, 10113)\t0.3333333333333333\n",
      "  (2, 11861)\t0.3333333333333333\n",
      "  (2, 14556)\t0.3333333333333333\n",
      "  (2, 21025)\t0.3333333333333333\n",
      "  (2, 29628)\t0.3333333333333333\n",
      "  (2, 30345)\t0.3333333333333333\n",
      "  (4, 4159)\t0.7071067811865475\n",
      "  (4, 10575)\t0.7071067811865475\n",
      "  (5, 10467)\t0.3779644730092272\n",
      "  (5, 10880)\t0.3779644730092272\n",
      "  :\t:\n",
      "  (11203, 20172)\t0.2581988897471611\n",
      "  (11203, 21874)\t0.2581988897471611\n",
      "  (11203, 21936)\t0.2581988897471611\n",
      "  (11203, 23335)\t0.2581988897471611\n",
      "  (11203, 23886)\t0.2581988897471611\n",
      "  (11203, 23996)\t0.2581988897471611\n",
      "  (11203, 31370)\t0.2581988897471611\n",
      "  (11204, 1727)\t0.4082482904638631\n",
      "  (11204, 1898)\t0.4082482904638631\n",
      "  (11204, 2566)\t0.4082482904638631\n",
      "  (11204, 5247)\t0.4082482904638631\n",
      "  (11204, 12582)\t0.4082482904638631\n",
      "  (11204, 19499)\t0.4082482904638631\n",
      "  (11205, 1581)\t0.4082482904638631\n",
      "  (11205, 16097)\t0.4082482904638631\n",
      "  (11205, 18068)\t0.4082482904638631\n",
      "  (11205, 24311)\t0.4082482904638631\n",
      "  (11205, 32163)\t0.4082482904638631\n",
      "  (11205, 32169)\t0.4082482904638631\n",
      "  (11206, 3650)\t0.4472135954999579\n",
      "  (11206, 10828)\t0.4472135954999579\n",
      "  (11206, 19512)\t0.4472135954999579\n",
      "  (11206, 22218)\t0.4472135954999579\n",
      "  (11206, 23323)\t0.4472135954999579\n",
      "  (11207, 5306)\t1.0\n"
     ]
    }
   ],
   "source": [
    "n_clusters = 17\n",
    "\n",
    "vectorizer = CountVectorizer()\n",
    "X = vectorizer.fit_transform(review_data['리뷰'].tolist())\n",
    "\n",
    "X = normalize(X)\n",
    "\n",
    "print(X)\n",
    "\n",
    "kmeans = KMeans(n_clusters=n_clusters).fit(X)\n",
    "\n",
    "#result_by_sklearn = X.copy()\n",
    "# result_by_sklearn[\"cluster\"] = kmeans.labels_\n",
    "#result_by_sklean.head()\n",
    "\n",
    "labels = kmeans.labels_\n",
    "centers = kmeans.cluster_centers_\n",
    "\n",
    "review_data['ClusterLabels'] = labels\n",
    "# review_data['Centers'] = centers\n"
   ]
  },
  {
   "cell_type": "code",
   "execution_count": 42,
   "id": "0861373e",
   "metadata": {},
   "outputs": [
    {
     "data": {
      "text/html": [
       "<div>\n",
       "<style scoped>\n",
       "    .dataframe tbody tr th:only-of-type {\n",
       "        vertical-align: middle;\n",
       "    }\n",
       "\n",
       "    .dataframe tbody tr th {\n",
       "        vertical-align: top;\n",
       "    }\n",
       "\n",
       "    .dataframe thead th {\n",
       "        text-align: right;\n",
       "    }\n",
       "</style>\n",
       "<table border=\"1\" class=\"dataframe\">\n",
       "  <thead>\n",
       "    <tr style=\"text-align: right;\">\n",
       "      <th></th>\n",
       "      <th>가게번호</th>\n",
       "      <th>유저이름</th>\n",
       "      <th>날짜</th>\n",
       "      <th>별점</th>\n",
       "      <th>사진</th>\n",
       "      <th>메뉴</th>\n",
       "      <th>리뷰</th>\n",
       "      <th>긍/부정</th>\n",
       "      <th>nlpdata</th>\n",
       "      <th>ClusterLabels</th>\n",
       "    </tr>\n",
       "  </thead>\n",
       "  <tbody>\n",
       "    <tr>\n",
       "      <th>0</th>\n",
       "      <td>1</td>\n",
       "      <td>gh**</td>\n",
       "      <td>2021-07-28</td>\n",
       "      <td>5</td>\n",
       "      <td>yes</td>\n",
       "      <td>육개장/1+등심돈까스/1(공기밥 추가(공기밥추가))</td>\n",
       "      <td>지난 주에도 시켰는데 괜찮아서 또 시켰네요~ 배달 속도도 빠르고 음식도 만족스럽습니다ㅎㅎ</td>\n",
       "      <td>1</td>\n",
       "      <td>NaN</td>\n",
       "      <td>0</td>\n",
       "    </tr>\n",
       "    <tr>\n",
       "      <th>1</th>\n",
       "      <td>1</td>\n",
       "      <td>ma**</td>\n",
       "      <td>2021-07-27</td>\n",
       "      <td>5</td>\n",
       "      <td>yes</td>\n",
       "      <td>쫄면Set（쫄면＋오뎅＋김밥）/1(김밥 선택(변경 안함))+돈까스Set（등심돈까스＋우...</td>\n",
       "      <td>푸짐하게 잘 먹었습니다.</td>\n",
       "      <td>1</td>\n",
       "      <td>NaN</td>\n",
       "      <td>1</td>\n",
       "    </tr>\n",
       "    <tr>\n",
       "      <th>2</th>\n",
       "      <td>1</td>\n",
       "      <td>en**</td>\n",
       "      <td>2021-07-27</td>\n",
       "      <td>2</td>\n",
       "      <td>no</td>\n",
       "      <td>천국김밥/2+콩국수/2(곱빼기 추가 선택(곱빼기 추가))</td>\n",
       "      <td>콩국수 꼽빼기 2개는 양도 맛도 별로임 꽁국수 메뉴추가는 패착인듯</td>\n",
       "      <td>-1</td>\n",
       "      <td>NaN</td>\n",
       "      <td>0</td>\n",
       "    </tr>\n",
       "    <tr>\n",
       "      <th>3</th>\n",
       "      <td>1</td>\n",
       "      <td>mk**</td>\n",
       "      <td>2021-07-26</td>\n",
       "      <td>5</td>\n",
       "      <td>no</td>\n",
       "      <td>고기만두/1+등심돈까스/1+쫄면Set（쫄면＋오뎅＋김밥）/1(김밥 선택(참치김밥으로 ...</td>\n",
       "      <td>........</td>\n",
       "      <td>1</td>\n",
       "      <td>NaN</td>\n",
       "      <td>0</td>\n",
       "    </tr>\n",
       "    <tr>\n",
       "      <th>4</th>\n",
       "      <td>1</td>\n",
       "      <td>be**</td>\n",
       "      <td>2021-07-26</td>\n",
       "      <td>5</td>\n",
       "      <td>yes</td>\n",
       "      <td>천국김밥/2+계란말이김밥/1+떡볶이/1+물냉면/3</td>\n",
       "      <td>김밥이 맛있습니다요</td>\n",
       "      <td>1</td>\n",
       "      <td>NaN</td>\n",
       "      <td>0</td>\n",
       "    </tr>\n",
       "  </tbody>\n",
       "</table>\n",
       "</div>"
      ],
      "text/plain": [
       "   가게번호  유저이름          날짜  별점   사진  \\\n",
       "0     1  gh**  2021-07-28   5  yes   \n",
       "1     1  ma**  2021-07-27   5  yes   \n",
       "2     1  en**  2021-07-27   2   no   \n",
       "3     1  mk**  2021-07-26   5   no   \n",
       "4     1  be**  2021-07-26   5  yes   \n",
       "\n",
       "                                                  메뉴  \\\n",
       "0                       육개장/1+등심돈까스/1(공기밥 추가(공기밥추가))   \n",
       "1  쫄면Set（쫄면＋오뎅＋김밥）/1(김밥 선택(변경 안함))+돈까스Set（등심돈까스＋우...   \n",
       "2                    천국김밥/2+콩국수/2(곱빼기 추가 선택(곱빼기 추가))   \n",
       "3  고기만두/1+등심돈까스/1+쫄면Set（쫄면＋오뎅＋김밥）/1(김밥 선택(참치김밥으로 ...   \n",
       "4                        천국김밥/2+계란말이김밥/1+떡볶이/1+물냉면/3   \n",
       "\n",
       "                                                  리뷰  긍/부정   nlpdata  \\\n",
       "0  지난 주에도 시켰는데 괜찮아서 또 시켰네요~ 배달 속도도 빠르고 음식도 만족스럽습니다ㅎㅎ     1       NaN   \n",
       "1                                      푸짐하게 잘 먹었습니다.     1       NaN   \n",
       "2               콩국수 꼽빼기 2개는 양도 맛도 별로임 꽁국수 메뉴추가는 패착인듯    -1       NaN   \n",
       "3                                           ........     1       NaN   \n",
       "4                                         김밥이 맛있습니다요     1       NaN   \n",
       "\n",
       "   ClusterLabels  \n",
       "0              0  \n",
       "1              1  \n",
       "2              0  \n",
       "3              0  \n",
       "4              0  "
      ]
     },
     "execution_count": 42,
     "metadata": {},
     "output_type": "execute_result"
    }
   ],
   "source": [
    "# review_data.head()"
   ]
  },
  {
   "cell_type": "markdown",
   "id": "c08043e1",
   "metadata": {},
   "source": [
    "### Cluster visualization"
   ]
  },
  {
   "cell_type": "code",
   "execution_count": 1,
   "id": "bf8d1fcb",
   "metadata": {},
   "outputs": [],
   "source": [
    "import seaborn as sns\n"
   ]
  },
  {
   "cell_type": "code",
   "execution_count": null,
   "id": "80a341d0",
   "metadata": {},
   "outputs": [],
   "source": []
  }
 ],
 "metadata": {
  "kernelspec": {
   "display_name": "Python 3",
   "language": "python",
   "name": "python3"
  },
  "language_info": {
   "codemirror_mode": {
    "name": "ipython",
    "version": 3
   },
   "file_extension": ".py",
   "mimetype": "text/x-python",
   "name": "python",
   "nbconvert_exporter": "python",
   "pygments_lexer": "ipython3",
   "version": "3.6.13"
  }
 },
 "nbformat": 4,
 "nbformat_minor": 5
}
