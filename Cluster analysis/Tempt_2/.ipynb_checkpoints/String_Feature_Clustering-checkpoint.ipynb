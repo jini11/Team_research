{
 "cells": [
  {
   "cell_type": "markdown",
   "id": "1e71545b",
   "metadata": {},
   "source": [
    "# 리뷰 특성 벡터화 후 클러스터링\n",
    "## Import"
   ]
  },
  {
   "cell_type": "code",
   "execution_count": 9,
   "id": "8240af46",
   "metadata": {},
   "outputs": [],
   "source": [
    "import pandas as pd\n",
    "from pandas import DataFrame\n",
    "\n",
    "import numpy as np\n",
    "\n",
    "import matplotlib.pyplot as plt\n",
    "from scipy.spatial.distance import cdist\n",
    "\n",
    "from sklearn.decomposition import PCA\n",
    "\n",
    "from tqdm import tqdm"
   ]
  },
  {
   "cell_type": "markdown",
   "id": "b774293b",
   "metadata": {},
   "source": [
    "### Data Load"
   ]
  },
  {
   "cell_type": "code",
   "execution_count": 27,
   "id": "eaacc620",
   "metadata": {
    "scrolled": true
   },
   "outputs": [
    {
     "name": "stdout",
     "output_type": "stream",
     "text": [
      "<class 'pandas.core.frame.DataFrame'>\n",
      "RangeIndex: 10658 entries, 0 to 10657\n",
      "Data columns (total 1 columns):\n",
      " #   Column  Non-Null Count  Dtype \n",
      "---  ------  --------------  ----- \n",
      " 0   Review  10657 non-null  object\n",
      "dtypes: object(1)\n",
      "memory usage: 83.4+ KB\n"
     ]
    }
   ],
   "source": [
    "Raw_Data = pd.read_csv(\"./Original_Data_UTF8.CSV\", encoding='utf-8')\n",
    "\n",
    "Data_Set = pd.DataFrame(Raw_Data[\"Review\"])\n",
    "\n",
    "Data_Set.info()"
   ]
  },
  {
   "cell_type": "code",
   "execution_count": 30,
   "id": "96f4137e",
   "metadata": {
    "scrolled": false
   },
   "outputs": [
    {
     "name": "stderr",
     "output_type": "stream",
     "text": [
      "100%|███████████████████████████████████████████████████████████████████████| 10658/10658 [00:00<00:00, 1332227.45it/s]\n"
     ]
    },
    {
     "data": {
      "text/html": [
       "<div>\n",
       "<style scoped>\n",
       "    .dataframe tbody tr th:only-of-type {\n",
       "        vertical-align: middle;\n",
       "    }\n",
       "\n",
       "    .dataframe tbody tr th {\n",
       "        vertical-align: top;\n",
       "    }\n",
       "\n",
       "    .dataframe thead th {\n",
       "        text-align: right;\n",
       "    }\n",
       "</style>\n",
       "<table border=\"1\" class=\"dataframe\">\n",
       "  <thead>\n",
       "    <tr style=\"text-align: right;\">\n",
       "      <th></th>\n",
       "      <th>Review</th>\n",
       "      <th>length</th>\n",
       "    </tr>\n",
       "  </thead>\n",
       "  <tbody>\n",
       "    <tr>\n",
       "      <th>0</th>\n",
       "      <td>제발 리뷰 솔직하게 씁시다~ 닭인지 병아리인지 모르겠고 본점이라면서 짱깨 집도 같이...</td>\n",
       "      <td>53</td>\n",
       "    </tr>\n",
       "    <tr>\n",
       "      <th>1</th>\n",
       "      <td>맛은 있는데 치킨이 진짜 너무 짜게 식어서 옴...... 먹는데 이거 항의할까 말까...</td>\n",
       "      <td>163</td>\n",
       "    </tr>\n",
       "    <tr>\n",
       "      <th>2</th>\n",
       "      <td>불고기버거 단품 2개와 한우버거 세트를 주문했는데 콜라와 포테이토가 빠진 단품 3개...</td>\n",
       "      <td>300</td>\n",
       "    </tr>\n",
       "    <tr>\n",
       "      <th>3</th>\n",
       "      <td>말도 없이 배달 엄청 늦어짐</td>\n",
       "      <td>15</td>\n",
       "    </tr>\n",
       "    <tr>\n",
       "      <th>4</th>\n",
       "      <td>순두부찌개는 너무 짠맛만 나고.. 물 넣어서 전자레인지 돌려먹었어요 그냥 딱 쉰 김...</td>\n",
       "      <td>212</td>\n",
       "    </tr>\n",
       "  </tbody>\n",
       "</table>\n",
       "</div>"
      ],
      "text/plain": [
       "                                              Review  length\n",
       "0  제발 리뷰 솔직하게 씁시다~ 닭인지 병아리인지 모르겠고 본점이라면서 짱깨 집도 같이...      53\n",
       "1  맛은 있는데 치킨이 진짜 너무 짜게 식어서 옴...... 먹는데 이거 항의할까 말까...     163\n",
       "2  불고기버거 단품 2개와 한우버거 세트를 주문했는데 콜라와 포테이토가 빠진 단품 3개...     300\n",
       "3                                    말도 없이 배달 엄청 늦어짐      15\n",
       "4  순두부찌개는 너무 짠맛만 나고.. 물 넣어서 전자레인지 돌려먹었어요 그냥 딱 쉰 김...     212"
      ]
     },
     "execution_count": 30,
     "metadata": {},
     "output_type": "execute_result"
    }
   ],
   "source": [
    "Data_Set['length'] = ''\n",
    "\n",
    "RawLength = []\n",
    "\n",
    "for index in tqdm(Data_Set['Review']):\n",
    "    # Data_Set['length'] = len(str(index))\n",
    "    # Current_Length = len(str(index))\n",
    "    # Data_Set.length[index] = Current_Length\n",
    "    # print(len(str(index)))\n",
    "    \n",
    "    RawLength.append(len(str(index)))\n",
    "\n",
    "Data_Set['length'] = RawLength\n",
    "\n",
    "Data_Set.head()"
   ]
  },
  {
   "cell_type": "code",
   "execution_count": 31,
   "id": "3d580a48",
   "metadata": {},
   "outputs": [
    {
     "data": {
      "text/html": [
       "<div>\n",
       "<style scoped>\n",
       "    .dataframe tbody tr th:only-of-type {\n",
       "        vertical-align: middle;\n",
       "    }\n",
       "\n",
       "    .dataframe tbody tr th {\n",
       "        vertical-align: top;\n",
       "    }\n",
       "\n",
       "    .dataframe thead th {\n",
       "        text-align: right;\n",
       "    }\n",
       "</style>\n",
       "<table border=\"1\" class=\"dataframe\">\n",
       "  <thead>\n",
       "    <tr style=\"text-align: right;\">\n",
       "      <th></th>\n",
       "      <th>Review</th>\n",
       "      <th>length</th>\n",
       "    </tr>\n",
       "  </thead>\n",
       "  <tbody>\n",
       "    <tr>\n",
       "      <th>10653</th>\n",
       "      <td>주먹밥 진짜 별로에 여 집에서 만들어 먹는 게 나을 듯 죽 지키면 주스도 나온다더니...</td>\n",
       "      <td>53</td>\n",
       "    </tr>\n",
       "    <tr>\n",
       "      <th>10654</th>\n",
       "      <td>남자분들은 그냥 먹는데 여자분들은 음식이 짜고 김치볶음밥이 맛이 좀...; 일회용용...</td>\n",
       "      <td>63</td>\n",
       "    </tr>\n",
       "    <tr>\n",
       "      <th>10655</th>\n",
       "      <td>얼큰 떡볶이 시켰는데 떡이 안 보이길래 전화해서 물었더니 손톱만 한 거 10개 넣었...</td>\n",
       "      <td>137</td>\n",
       "    </tr>\n",
       "    <tr>\n",
       "      <th>10656</th>\n",
       "      <td>ㅠㅠ</td>\n",
       "      <td>2</td>\n",
       "    </tr>\n",
       "    <tr>\n",
       "      <th>10657</th>\n",
       "      <td>떡볶이 순대.. 너무 별로... 강남 배달음식은 맛집 찾기가 하늘에 별 따기.. 후</td>\n",
       "      <td>46</td>\n",
       "    </tr>\n",
       "  </tbody>\n",
       "</table>\n",
       "</div>"
      ],
      "text/plain": [
       "                                                  Review  length\n",
       "10653  주먹밥 진짜 별로에 여 집에서 만들어 먹는 게 나을 듯 죽 지키면 주스도 나온다더니...      53\n",
       "10654  남자분들은 그냥 먹는데 여자분들은 음식이 짜고 김치볶음밥이 맛이 좀...; 일회용용...      63\n",
       "10655  얼큰 떡볶이 시켰는데 떡이 안 보이길래 전화해서 물었더니 손톱만 한 거 10개 넣었...     137\n",
       "10656                                                 ㅠㅠ       2\n",
       "10657     떡볶이 순대.. 너무 별로... 강남 배달음식은 맛집 찾기가 하늘에 별 따기.. 후      46"
      ]
     },
     "execution_count": 31,
     "metadata": {},
     "output_type": "execute_result"
    }
   ],
   "source": [
    "Data_Set.tail()"
   ]
  },
  {
   "cell_type": "code",
   "execution_count": null,
   "id": "553490c9",
   "metadata": {},
   "outputs": [],
   "source": []
  }
 ],
 "metadata": {
  "kernelspec": {
   "display_name": "Python 3",
   "language": "python",
   "name": "python3"
  },
  "language_info": {
   "codemirror_mode": {
    "name": "ipython",
    "version": 3
   },
   "file_extension": ".py",
   "mimetype": "text/x-python",
   "name": "python",
   "nbconvert_exporter": "python",
   "pygments_lexer": "ipython3",
   "version": "3.6.13"
  }
 },
 "nbformat": 4,
 "nbformat_minor": 5
}
